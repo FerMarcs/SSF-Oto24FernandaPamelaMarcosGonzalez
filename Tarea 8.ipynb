{
  "nbformat": 4,
  "nbformat_minor": 0,
  "metadata": {
    "colab": {
      "provenance": [],
      "authorship_tag": "ABX9TyPBA4Ja+fHQi7YnOIRgVctG",
      "include_colab_link": true
    },
    "kernelspec": {
      "name": "python3",
      "display_name": "Python 3"
    },
    "language_info": {
      "name": "python"
    }
  },
  "cells": [
    {
      "cell_type": "markdown",
      "metadata": {
        "id": "view-in-github",
        "colab_type": "text"
      },
      "source": [
        "<a href=\"https://colab.research.google.com/github/FerMarcs/SSF-Oto24FernandaPamelaMarcosGonzalez/blob/main/Tarea%208.ipynb\" target=\"_parent\"><img src=\"https://colab.research.google.com/assets/colab-badge.svg\" alt=\"Open In Colab\"/></a>"
      ]
    },
    {
      "cell_type": "code",
      "execution_count": 1,
      "metadata": {
        "id": "aq9oHMgDcUY0",
        "outputId": "b33936bd-a227-4706-adbb-8e20863b4a66",
        "colab": {
          "base_uri": "https://localhost:8080/"
        }
      },
      "outputs": [
        {
          "output_type": "stream",
          "name": "stdout",
          "text": [
            "Probabilidad de que los 3 alumnos seleccionados sean mujeres: 0.0085\n",
            "Curso 1: Promedio = 7.66, Varianza = 3.44\n",
            "Curso 2: Promedio = 7.62, Varianza = 3.22\n",
            "Curso 3: Promedio = 7.39, Varianza = 2.80\n",
            "Curso 4: Promedio = 7.42, Varianza = 2.42\n",
            "Curso 5: Promedio = 7.47, Varianza = 3.43\n",
            "Curso 6: Promedio = 7.62, Varianza = 2.70\n",
            "Curso 7: Promedio = 7.42, Varianza = 2.80\n",
            "Curso 8: Promedio = 7.24, Varianza = 3.04\n",
            "Curso 9: Promedio = 7.63, Varianza = 2.63\n",
            "Curso 10: Promedio = 7.02, Varianza = 2.62\n",
            "\n",
            "Promedio general de los promedios de los cursos: 7.45\n",
            "Desviación estándar de los promedios de los cursos: 0.19\n"
          ]
        }
      ],
      "source": [
        "import numpy as np\n",
        "from scipy.stats import hypergeom\n",
        "\n",
        "# Parte A: Probabilidad de que los 3 alumnos seleccionados sean mujeres\n",
        "# Parámetros para la distribución hipergeométrica\n",
        "total_alumnos = 40\n",
        "total_mujeres = 9\n",
        "alumnos_seleccionados = 3\n",
        "\n",
        "# Calcular la probabilidad\n",
        "probabilidad_3_mujeres = hypergeom.pmf(3, total_alumnos, total_mujeres, alumnos_seleccionados)\n",
        "print(f\"Probabilidad de que los 3 alumnos seleccionados sean mujeres: {probabilidad_3_mujeres:.4f}\")\n",
        "\n",
        "# Parte B: Asignación de calificaciones aleatorias y cálculo de promedio y varianza\n",
        "def asignar_calificaciones(num_alumnos):\n",
        "    return np.random.randint(5, 11, num_alumnos)  # Genera calificaciones entre 5 y 10\n",
        "\n",
        "num_alumnos_clase = 100\n",
        "cursos = 10\n",
        "\n",
        "# Repetir el experimento para 10 cursos y almacenar promedios y varianzas\n",
        "promedios = []\n",
        "varianzas = []\n",
        "\n",
        "for i in range(cursos):\n",
        "    calificaciones = asignar_calificaciones(num_alumnos_clase)\n",
        "    promedio = np.mean(calificaciones)\n",
        "    varianza = np.var(calificaciones)\n",
        "    promedios.append(promedio)\n",
        "    varianzas.append(varianza)\n",
        "    print(f\"Curso {i+1}: Promedio = {promedio:.2f}, Varianza = {varianza:.2f}\")\n",
        "\n",
        "# Parte C: Cálculo del promedio y desviación estándar de los promedios de los 10 cursos\n",
        "promedio_general = np.mean(promedios)\n",
        "desviacion_estandar = np.std(promedios)\n",
        "\n",
        "print(f\"\\nPromedio general de los promedios de los cursos: {promedio_general:.2f}\")\n",
        "print(f\"Desviación estándar de los promedios de los cursos: {desviacion_estandar:.2f}\")\n"
      ]
    }
  ]
}